{
  "nbformat": 4,
  "nbformat_minor": 0,
  "metadata": {
    "colab": {
      "name": "AI_Ass-1.2.ipynb",
      "provenance": [],
      "authorship_tag": "ABX9TyPMYAeLJRxKCtyJ+ZHXPAYE",
      "include_colab_link": true
    },
    "kernelspec": {
      "name": "python3",
      "display_name": "Python 3"
    },
    "language_info": {
      "name": "python"
    }
  },
  "cells": [
    {
      "cell_type": "markdown",
      "metadata": {
        "id": "view-in-github",
        "colab_type": "text"
      },
      "source": [
        "<a href=\"https://colab.research.google.com/github/sridhar-svjs/AI_Assignment-1.2/blob/colab/AI_Ass_1_2.ipynb\" target=\"_parent\"><img src=\"https://colab.research.google.com/assets/colab-badge.svg\" alt=\"Open In Colab\"/></a>"
      ]
    },
    {
      "cell_type": "code",
      "execution_count": 2,
      "metadata": {
        "colab": {
          "base_uri": "https://localhost:8080/"
        },
        "id": "Qj7RQ3D1mjk7",
        "outputId": "36637e30-8966-408a-881b-fcdcc69614e2"
      },
      "outputs": [
        {
          "output_type": "stream",
          "name": "stdout",
          "text": [
            "1\n",
            "2\n"
          ]
        }
      ],
      "source": [
        "#!pip install numpy==1.17\n",
        "\n",
        "import numpy as np\n",
        "\n",
        "def rank_of_array(test):\n",
        "    num = np.ndim(test)\n",
        "   # num = np.rank(test)\n",
        "    return num\n",
        "x = np.array([1, 2, 3])\n",
        "y = np.array([[1,2,3],[4,5,6],[7,8,9]])\n",
        "print(rank_of_array(x))\n",
        "print(rank_of_array(y))"
      ]
    }
  ]
}